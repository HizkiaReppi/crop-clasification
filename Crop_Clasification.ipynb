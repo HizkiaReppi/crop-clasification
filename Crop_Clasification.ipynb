{
  "cells": [
    {
      "cell_type": "markdown",
      "metadata": {
        "id": "UErFVyg26qnd"
      },
      "source": [
        "# Project Akhir Data Science"
      ]
    },
    {
      "cell_type": "code",
      "execution_count": 1,
      "metadata": {
        "id": "hhYBoI-M6ToT"
      },
      "outputs": [],
      "source": [
        "import pandas as pd\n",
        "import numpy as np\n",
        "import matplotlib.pyplot as plt\n",
        "import seaborn as sns\n",
        "\n",
        "from sklearn.model_selection import train_test_split\n",
        "from sklearn.preprocessing import StandardScaler, LabelEncoder\n",
        "from sklearn.ensemble import IsolationForest\n",
        "from sklearn.neighbors import KNeighborsClassifier, KNeighborsRegressor\n",
        "from sklearn.metrics import accuracy_score, precision_score, recall_score, f1_score, confusion_matrix, classification_report, mean_absolute_error, mean_squared_error, r2_score\n",
        "\n",
        "import os\n",
        "import warnings\n",
        "import time"
      ]
    },
    {
      "cell_type": "code",
      "execution_count": 2,
      "metadata": {
        "colab": {
          "base_uri": "https://localhost:8080/",
          "height": 206
        },
        "id": "CZsBqhNW8fuR",
        "outputId": "ff0b93ef-de19-495b-b009-9fbd366ddcf9"
      },
      "outputs": [
        {
          "output_type": "execute_result",
          "data": {
            "text/plain": [
              "    Rainfall   Temperature   Ph   Crop   Production\n",
              "0  400.15082          20.0  3.0  Bajra      0.00690\n",
              "1  400.16331          20.0  3.2  Bajra      0.00747\n",
              "2  400.16387          20.0  3.2  Bajra      0.00749\n",
              "3  400.17967          20.0  3.2  Bajra      0.00822\n",
              "4  400.19582          20.0  3.2  Bajra      0.00895"
            ],
            "text/html": [
              "\n",
              "  <div id=\"df-c6834dcf-d84a-42b7-b2ac-c56f9b009239\" class=\"colab-df-container\">\n",
              "    <div>\n",
              "<style scoped>\n",
              "    .dataframe tbody tr th:only-of-type {\n",
              "        vertical-align: middle;\n",
              "    }\n",
              "\n",
              "    .dataframe tbody tr th {\n",
              "        vertical-align: top;\n",
              "    }\n",
              "\n",
              "    .dataframe thead th {\n",
              "        text-align: right;\n",
              "    }\n",
              "</style>\n",
              "<table border=\"1\" class=\"dataframe\">\n",
              "  <thead>\n",
              "    <tr style=\"text-align: right;\">\n",
              "      <th></th>\n",
              "      <th>Rainfall</th>\n",
              "      <th>Temperature</th>\n",
              "      <th>Ph</th>\n",
              "      <th>Crop</th>\n",
              "      <th>Production</th>\n",
              "    </tr>\n",
              "  </thead>\n",
              "  <tbody>\n",
              "    <tr>\n",
              "      <th>0</th>\n",
              "      <td>400.15082</td>\n",
              "      <td>20.0</td>\n",
              "      <td>3.0</td>\n",
              "      <td>Bajra</td>\n",
              "      <td>0.00690</td>\n",
              "    </tr>\n",
              "    <tr>\n",
              "      <th>1</th>\n",
              "      <td>400.16331</td>\n",
              "      <td>20.0</td>\n",
              "      <td>3.2</td>\n",
              "      <td>Bajra</td>\n",
              "      <td>0.00747</td>\n",
              "    </tr>\n",
              "    <tr>\n",
              "      <th>2</th>\n",
              "      <td>400.16387</td>\n",
              "      <td>20.0</td>\n",
              "      <td>3.2</td>\n",
              "      <td>Bajra</td>\n",
              "      <td>0.00749</td>\n",
              "    </tr>\n",
              "    <tr>\n",
              "      <th>3</th>\n",
              "      <td>400.17967</td>\n",
              "      <td>20.0</td>\n",
              "      <td>3.2</td>\n",
              "      <td>Bajra</td>\n",
              "      <td>0.00822</td>\n",
              "    </tr>\n",
              "    <tr>\n",
              "      <th>4</th>\n",
              "      <td>400.19582</td>\n",
              "      <td>20.0</td>\n",
              "      <td>3.2</td>\n",
              "      <td>Bajra</td>\n",
              "      <td>0.00895</td>\n",
              "    </tr>\n",
              "  </tbody>\n",
              "</table>\n",
              "</div>\n",
              "    <div class=\"colab-df-buttons\">\n",
              "\n",
              "  <div class=\"colab-df-container\">\n",
              "    <button class=\"colab-df-convert\" onclick=\"convertToInteractive('df-c6834dcf-d84a-42b7-b2ac-c56f9b009239')\"\n",
              "            title=\"Convert this dataframe to an interactive table.\"\n",
              "            style=\"display:none;\">\n",
              "\n",
              "  <svg xmlns=\"http://www.w3.org/2000/svg\" height=\"24px\" viewBox=\"0 -960 960 960\">\n",
              "    <path d=\"M120-120v-720h720v720H120Zm60-500h600v-160H180v160Zm220 220h160v-160H400v160Zm0 220h160v-160H400v160ZM180-400h160v-160H180v160Zm440 0h160v-160H620v160ZM180-180h160v-160H180v160Zm440 0h160v-160H620v160Z\"/>\n",
              "  </svg>\n",
              "    </button>\n",
              "\n",
              "  <style>\n",
              "    .colab-df-container {\n",
              "      display:flex;\n",
              "      gap: 12px;\n",
              "    }\n",
              "\n",
              "    .colab-df-convert {\n",
              "      background-color: #E8F0FE;\n",
              "      border: none;\n",
              "      border-radius: 50%;\n",
              "      cursor: pointer;\n",
              "      display: none;\n",
              "      fill: #1967D2;\n",
              "      height: 32px;\n",
              "      padding: 0 0 0 0;\n",
              "      width: 32px;\n",
              "    }\n",
              "\n",
              "    .colab-df-convert:hover {\n",
              "      background-color: #E2EBFA;\n",
              "      box-shadow: 0px 1px 2px rgba(60, 64, 67, 0.3), 0px 1px 3px 1px rgba(60, 64, 67, 0.15);\n",
              "      fill: #174EA6;\n",
              "    }\n",
              "\n",
              "    .colab-df-buttons div {\n",
              "      margin-bottom: 4px;\n",
              "    }\n",
              "\n",
              "    [theme=dark] .colab-df-convert {\n",
              "      background-color: #3B4455;\n",
              "      fill: #D2E3FC;\n",
              "    }\n",
              "\n",
              "    [theme=dark] .colab-df-convert:hover {\n",
              "      background-color: #434B5C;\n",
              "      box-shadow: 0px 1px 3px 1px rgba(0, 0, 0, 0.15);\n",
              "      filter: drop-shadow(0px 1px 2px rgba(0, 0, 0, 0.3));\n",
              "      fill: #FFFFFF;\n",
              "    }\n",
              "  </style>\n",
              "\n",
              "    <script>\n",
              "      const buttonEl =\n",
              "        document.querySelector('#df-c6834dcf-d84a-42b7-b2ac-c56f9b009239 button.colab-df-convert');\n",
              "      buttonEl.style.display =\n",
              "        google.colab.kernel.accessAllowed ? 'block' : 'none';\n",
              "\n",
              "      async function convertToInteractive(key) {\n",
              "        const element = document.querySelector('#df-c6834dcf-d84a-42b7-b2ac-c56f9b009239');\n",
              "        const dataTable =\n",
              "          await google.colab.kernel.invokeFunction('convertToInteractive',\n",
              "                                                    [key], {});\n",
              "        if (!dataTable) return;\n",
              "\n",
              "        const docLinkHtml = 'Like what you see? Visit the ' +\n",
              "          '<a target=\"_blank\" href=https://colab.research.google.com/notebooks/data_table.ipynb>data table notebook</a>'\n",
              "          + ' to learn more about interactive tables.';\n",
              "        element.innerHTML = '';\n",
              "        dataTable['output_type'] = 'display_data';\n",
              "        await google.colab.output.renderOutput(dataTable, element);\n",
              "        const docLink = document.createElement('div');\n",
              "        docLink.innerHTML = docLinkHtml;\n",
              "        element.appendChild(docLink);\n",
              "      }\n",
              "    </script>\n",
              "  </div>\n",
              "\n",
              "\n",
              "<div id=\"df-3c41b747-8076-4b25-928d-8626900ecb0c\">\n",
              "  <button class=\"colab-df-quickchart\" onclick=\"quickchart('df-3c41b747-8076-4b25-928d-8626900ecb0c')\"\n",
              "            title=\"Suggest charts\"\n",
              "            style=\"display:none;\">\n",
              "\n",
              "<svg xmlns=\"http://www.w3.org/2000/svg\" height=\"24px\"viewBox=\"0 0 24 24\"\n",
              "     width=\"24px\">\n",
              "    <g>\n",
              "        <path d=\"M19 3H5c-1.1 0-2 .9-2 2v14c0 1.1.9 2 2 2h14c1.1 0 2-.9 2-2V5c0-1.1-.9-2-2-2zM9 17H7v-7h2v7zm4 0h-2V7h2v10zm4 0h-2v-4h2v4z\"/>\n",
              "    </g>\n",
              "</svg>\n",
              "  </button>\n",
              "\n",
              "<style>\n",
              "  .colab-df-quickchart {\n",
              "      --bg-color: #E8F0FE;\n",
              "      --fill-color: #1967D2;\n",
              "      --hover-bg-color: #E2EBFA;\n",
              "      --hover-fill-color: #174EA6;\n",
              "      --disabled-fill-color: #AAA;\n",
              "      --disabled-bg-color: #DDD;\n",
              "  }\n",
              "\n",
              "  [theme=dark] .colab-df-quickchart {\n",
              "      --bg-color: #3B4455;\n",
              "      --fill-color: #D2E3FC;\n",
              "      --hover-bg-color: #434B5C;\n",
              "      --hover-fill-color: #FFFFFF;\n",
              "      --disabled-bg-color: #3B4455;\n",
              "      --disabled-fill-color: #666;\n",
              "  }\n",
              "\n",
              "  .colab-df-quickchart {\n",
              "    background-color: var(--bg-color);\n",
              "    border: none;\n",
              "    border-radius: 50%;\n",
              "    cursor: pointer;\n",
              "    display: none;\n",
              "    fill: var(--fill-color);\n",
              "    height: 32px;\n",
              "    padding: 0;\n",
              "    width: 32px;\n",
              "  }\n",
              "\n",
              "  .colab-df-quickchart:hover {\n",
              "    background-color: var(--hover-bg-color);\n",
              "    box-shadow: 0 1px 2px rgba(60, 64, 67, 0.3), 0 1px 3px 1px rgba(60, 64, 67, 0.15);\n",
              "    fill: var(--button-hover-fill-color);\n",
              "  }\n",
              "\n",
              "  .colab-df-quickchart-complete:disabled,\n",
              "  .colab-df-quickchart-complete:disabled:hover {\n",
              "    background-color: var(--disabled-bg-color);\n",
              "    fill: var(--disabled-fill-color);\n",
              "    box-shadow: none;\n",
              "  }\n",
              "\n",
              "  .colab-df-spinner {\n",
              "    border: 2px solid var(--fill-color);\n",
              "    border-color: transparent;\n",
              "    border-bottom-color: var(--fill-color);\n",
              "    animation:\n",
              "      spin 1s steps(1) infinite;\n",
              "  }\n",
              "\n",
              "  @keyframes spin {\n",
              "    0% {\n",
              "      border-color: transparent;\n",
              "      border-bottom-color: var(--fill-color);\n",
              "      border-left-color: var(--fill-color);\n",
              "    }\n",
              "    20% {\n",
              "      border-color: transparent;\n",
              "      border-left-color: var(--fill-color);\n",
              "      border-top-color: var(--fill-color);\n",
              "    }\n",
              "    30% {\n",
              "      border-color: transparent;\n",
              "      border-left-color: var(--fill-color);\n",
              "      border-top-color: var(--fill-color);\n",
              "      border-right-color: var(--fill-color);\n",
              "    }\n",
              "    40% {\n",
              "      border-color: transparent;\n",
              "      border-right-color: var(--fill-color);\n",
              "      border-top-color: var(--fill-color);\n",
              "    }\n",
              "    60% {\n",
              "      border-color: transparent;\n",
              "      border-right-color: var(--fill-color);\n",
              "    }\n",
              "    80% {\n",
              "      border-color: transparent;\n",
              "      border-right-color: var(--fill-color);\n",
              "      border-bottom-color: var(--fill-color);\n",
              "    }\n",
              "    90% {\n",
              "      border-color: transparent;\n",
              "      border-bottom-color: var(--fill-color);\n",
              "    }\n",
              "  }\n",
              "</style>\n",
              "\n",
              "  <script>\n",
              "    async function quickchart(key) {\n",
              "      const quickchartButtonEl =\n",
              "        document.querySelector('#' + key + ' button');\n",
              "      quickchartButtonEl.disabled = true;  // To prevent multiple clicks.\n",
              "      quickchartButtonEl.classList.add('colab-df-spinner');\n",
              "      try {\n",
              "        const charts = await google.colab.kernel.invokeFunction(\n",
              "            'suggestCharts', [key], {});\n",
              "      } catch (error) {\n",
              "        console.error('Error during call to suggestCharts:', error);\n",
              "      }\n",
              "      quickchartButtonEl.classList.remove('colab-df-spinner');\n",
              "      quickchartButtonEl.classList.add('colab-df-quickchart-complete');\n",
              "    }\n",
              "    (() => {\n",
              "      let quickchartButtonEl =\n",
              "        document.querySelector('#df-3c41b747-8076-4b25-928d-8626900ecb0c button');\n",
              "      quickchartButtonEl.style.display =\n",
              "        google.colab.kernel.accessAllowed ? 'block' : 'none';\n",
              "    })();\n",
              "  </script>\n",
              "</div>\n",
              "    </div>\n",
              "  </div>\n"
            ]
          },
          "metadata": {},
          "execution_count": 2
        }
      ],
      "source": [
        "df = pd.read_csv('datasets/crop_datasets.csv')\n",
        "df.head()"
      ]
    },
    {
      "cell_type": "markdown",
      "metadata": {
        "id": "z6qVXZWJB4ag"
      },
      "source": [
        "## Data Preparation"
      ]
    },
    {
      "cell_type": "code",
      "execution_count": 3,
      "metadata": {
        "colab": {
          "base_uri": "https://localhost:8080/"
        },
        "id": "gGL5Pak_-cSP",
        "outputId": "da4c4a5e-fabb-4dde-b1b8-9a12b2a31fc5"
      },
      "outputs": [
        {
          "output_type": "stream",
          "name": "stdout",
          "text": [
            "<class 'pandas.core.frame.DataFrame'>\n",
            "RangeIndex: 189232 entries, 0 to 189231\n",
            "Data columns (total 5 columns):\n",
            " #   Column        Non-Null Count   Dtype  \n",
            "---  ------        --------------   -----  \n",
            " 0    Rainfall     189232 non-null  float64\n",
            " 1    Temperature  189232 non-null  float64\n",
            " 2    Ph           189232 non-null  float64\n",
            " 3   Crop          189232 non-null  object \n",
            " 4    Production   189232 non-null  float64\n",
            "dtypes: float64(4), object(1)\n",
            "memory usage: 7.2+ MB\n"
          ]
        }
      ],
      "source": [
        "df.info()"
      ]
    },
    {
      "cell_type": "code",
      "source": [
        "# Rename columns\n",
        "df.rename(columns={' Rainfall': 'rainfall', ' Temperature': 'temperature', ' Ph': 'ph', 'Crop': 'crop', ' Production': 'production'}, inplace=True)\n",
        "df.info()"
      ],
      "metadata": {
        "colab": {
          "base_uri": "https://localhost:8080/"
        },
        "id": "ioQNzHqu7NaQ",
        "outputId": "9cc4f892-537c-488f-db2a-4da81b1f4127"
      },
      "execution_count": 4,
      "outputs": [
        {
          "output_type": "stream",
          "name": "stdout",
          "text": [
            "<class 'pandas.core.frame.DataFrame'>\n",
            "RangeIndex: 189232 entries, 0 to 189231\n",
            "Data columns (total 5 columns):\n",
            " #   Column       Non-Null Count   Dtype  \n",
            "---  ------       --------------   -----  \n",
            " 0   rainfall     189232 non-null  float64\n",
            " 1   temperature  189232 non-null  float64\n",
            " 2   ph           189232 non-null  float64\n",
            " 3   crop         189232 non-null  object \n",
            " 4   production   189232 non-null  float64\n",
            "dtypes: float64(4), object(1)\n",
            "memory usage: 7.2+ MB\n"
          ]
        }
      ]
    },
    {
      "cell_type": "code",
      "execution_count": 5,
      "metadata": {
        "colab": {
          "base_uri": "https://localhost:8080/",
          "height": 300
        },
        "id": "mOeGhhSOBg_9",
        "outputId": "5bfb759b-2a7c-4cc1-d26d-64e046b5f56a"
      },
      "outputs": [
        {
          "output_type": "execute_result",
          "data": {
            "text/plain": [
              "            rainfall    temperature             ph     production\n",
              "count  189232.000000  189232.000000  189232.000000  189232.000000\n",
              "mean      693.417573      25.262492       6.337846       5.262677\n",
              "std       288.988419       4.585660       0.788959      14.441616\n",
              "min       100.003400       7.000000       3.000000       0.000340\n",
              "25%       516.000000      22.026830       5.800000       0.584420\n",
              "50%       628.702885      25.000000       6.300000       1.166670\n",
              "75%       770.000000      28.215000       6.900000       2.989630\n",
              "max      3000.000000      39.045000       8.800000     955.750340"
            ],
            "text/html": [
              "\n",
              "  <div id=\"df-b21a93b2-c65a-40a6-89b5-06f18ca6e0db\" class=\"colab-df-container\">\n",
              "    <div>\n",
              "<style scoped>\n",
              "    .dataframe tbody tr th:only-of-type {\n",
              "        vertical-align: middle;\n",
              "    }\n",
              "\n",
              "    .dataframe tbody tr th {\n",
              "        vertical-align: top;\n",
              "    }\n",
              "\n",
              "    .dataframe thead th {\n",
              "        text-align: right;\n",
              "    }\n",
              "</style>\n",
              "<table border=\"1\" class=\"dataframe\">\n",
              "  <thead>\n",
              "    <tr style=\"text-align: right;\">\n",
              "      <th></th>\n",
              "      <th>rainfall</th>\n",
              "      <th>temperature</th>\n",
              "      <th>ph</th>\n",
              "      <th>production</th>\n",
              "    </tr>\n",
              "  </thead>\n",
              "  <tbody>\n",
              "    <tr>\n",
              "      <th>count</th>\n",
              "      <td>189232.000000</td>\n",
              "      <td>189232.000000</td>\n",
              "      <td>189232.000000</td>\n",
              "      <td>189232.000000</td>\n",
              "    </tr>\n",
              "    <tr>\n",
              "      <th>mean</th>\n",
              "      <td>693.417573</td>\n",
              "      <td>25.262492</td>\n",
              "      <td>6.337846</td>\n",
              "      <td>5.262677</td>\n",
              "    </tr>\n",
              "    <tr>\n",
              "      <th>std</th>\n",
              "      <td>288.988419</td>\n",
              "      <td>4.585660</td>\n",
              "      <td>0.788959</td>\n",
              "      <td>14.441616</td>\n",
              "    </tr>\n",
              "    <tr>\n",
              "      <th>min</th>\n",
              "      <td>100.003400</td>\n",
              "      <td>7.000000</td>\n",
              "      <td>3.000000</td>\n",
              "      <td>0.000340</td>\n",
              "    </tr>\n",
              "    <tr>\n",
              "      <th>25%</th>\n",
              "      <td>516.000000</td>\n",
              "      <td>22.026830</td>\n",
              "      <td>5.800000</td>\n",
              "      <td>0.584420</td>\n",
              "    </tr>\n",
              "    <tr>\n",
              "      <th>50%</th>\n",
              "      <td>628.702885</td>\n",
              "      <td>25.000000</td>\n",
              "      <td>6.300000</td>\n",
              "      <td>1.166670</td>\n",
              "    </tr>\n",
              "    <tr>\n",
              "      <th>75%</th>\n",
              "      <td>770.000000</td>\n",
              "      <td>28.215000</td>\n",
              "      <td>6.900000</td>\n",
              "      <td>2.989630</td>\n",
              "    </tr>\n",
              "    <tr>\n",
              "      <th>max</th>\n",
              "      <td>3000.000000</td>\n",
              "      <td>39.045000</td>\n",
              "      <td>8.800000</td>\n",
              "      <td>955.750340</td>\n",
              "    </tr>\n",
              "  </tbody>\n",
              "</table>\n",
              "</div>\n",
              "    <div class=\"colab-df-buttons\">\n",
              "\n",
              "  <div class=\"colab-df-container\">\n",
              "    <button class=\"colab-df-convert\" onclick=\"convertToInteractive('df-b21a93b2-c65a-40a6-89b5-06f18ca6e0db')\"\n",
              "            title=\"Convert this dataframe to an interactive table.\"\n",
              "            style=\"display:none;\">\n",
              "\n",
              "  <svg xmlns=\"http://www.w3.org/2000/svg\" height=\"24px\" viewBox=\"0 -960 960 960\">\n",
              "    <path d=\"M120-120v-720h720v720H120Zm60-500h600v-160H180v160Zm220 220h160v-160H400v160Zm0 220h160v-160H400v160ZM180-400h160v-160H180v160Zm440 0h160v-160H620v160ZM180-180h160v-160H180v160Zm440 0h160v-160H620v160Z\"/>\n",
              "  </svg>\n",
              "    </button>\n",
              "\n",
              "  <style>\n",
              "    .colab-df-container {\n",
              "      display:flex;\n",
              "      gap: 12px;\n",
              "    }\n",
              "\n",
              "    .colab-df-convert {\n",
              "      background-color: #E8F0FE;\n",
              "      border: none;\n",
              "      border-radius: 50%;\n",
              "      cursor: pointer;\n",
              "      display: none;\n",
              "      fill: #1967D2;\n",
              "      height: 32px;\n",
              "      padding: 0 0 0 0;\n",
              "      width: 32px;\n",
              "    }\n",
              "\n",
              "    .colab-df-convert:hover {\n",
              "      background-color: #E2EBFA;\n",
              "      box-shadow: 0px 1px 2px rgba(60, 64, 67, 0.3), 0px 1px 3px 1px rgba(60, 64, 67, 0.15);\n",
              "      fill: #174EA6;\n",
              "    }\n",
              "\n",
              "    .colab-df-buttons div {\n",
              "      margin-bottom: 4px;\n",
              "    }\n",
              "\n",
              "    [theme=dark] .colab-df-convert {\n",
              "      background-color: #3B4455;\n",
              "      fill: #D2E3FC;\n",
              "    }\n",
              "\n",
              "    [theme=dark] .colab-df-convert:hover {\n",
              "      background-color: #434B5C;\n",
              "      box-shadow: 0px 1px 3px 1px rgba(0, 0, 0, 0.15);\n",
              "      filter: drop-shadow(0px 1px 2px rgba(0, 0, 0, 0.3));\n",
              "      fill: #FFFFFF;\n",
              "    }\n",
              "  </style>\n",
              "\n",
              "    <script>\n",
              "      const buttonEl =\n",
              "        document.querySelector('#df-b21a93b2-c65a-40a6-89b5-06f18ca6e0db button.colab-df-convert');\n",
              "      buttonEl.style.display =\n",
              "        google.colab.kernel.accessAllowed ? 'block' : 'none';\n",
              "\n",
              "      async function convertToInteractive(key) {\n",
              "        const element = document.querySelector('#df-b21a93b2-c65a-40a6-89b5-06f18ca6e0db');\n",
              "        const dataTable =\n",
              "          await google.colab.kernel.invokeFunction('convertToInteractive',\n",
              "                                                    [key], {});\n",
              "        if (!dataTable) return;\n",
              "\n",
              "        const docLinkHtml = 'Like what you see? Visit the ' +\n",
              "          '<a target=\"_blank\" href=https://colab.research.google.com/notebooks/data_table.ipynb>data table notebook</a>'\n",
              "          + ' to learn more about interactive tables.';\n",
              "        element.innerHTML = '';\n",
              "        dataTable['output_type'] = 'display_data';\n",
              "        await google.colab.output.renderOutput(dataTable, element);\n",
              "        const docLink = document.createElement('div');\n",
              "        docLink.innerHTML = docLinkHtml;\n",
              "        element.appendChild(docLink);\n",
              "      }\n",
              "    </script>\n",
              "  </div>\n",
              "\n",
              "\n",
              "<div id=\"df-70b4b9aa-af1e-4a0d-8eef-c41e65b42a0c\">\n",
              "  <button class=\"colab-df-quickchart\" onclick=\"quickchart('df-70b4b9aa-af1e-4a0d-8eef-c41e65b42a0c')\"\n",
              "            title=\"Suggest charts\"\n",
              "            style=\"display:none;\">\n",
              "\n",
              "<svg xmlns=\"http://www.w3.org/2000/svg\" height=\"24px\"viewBox=\"0 0 24 24\"\n",
              "     width=\"24px\">\n",
              "    <g>\n",
              "        <path d=\"M19 3H5c-1.1 0-2 .9-2 2v14c0 1.1.9 2 2 2h14c1.1 0 2-.9 2-2V5c0-1.1-.9-2-2-2zM9 17H7v-7h2v7zm4 0h-2V7h2v10zm4 0h-2v-4h2v4z\"/>\n",
              "    </g>\n",
              "</svg>\n",
              "  </button>\n",
              "\n",
              "<style>\n",
              "  .colab-df-quickchart {\n",
              "      --bg-color: #E8F0FE;\n",
              "      --fill-color: #1967D2;\n",
              "      --hover-bg-color: #E2EBFA;\n",
              "      --hover-fill-color: #174EA6;\n",
              "      --disabled-fill-color: #AAA;\n",
              "      --disabled-bg-color: #DDD;\n",
              "  }\n",
              "\n",
              "  [theme=dark] .colab-df-quickchart {\n",
              "      --bg-color: #3B4455;\n",
              "      --fill-color: #D2E3FC;\n",
              "      --hover-bg-color: #434B5C;\n",
              "      --hover-fill-color: #FFFFFF;\n",
              "      --disabled-bg-color: #3B4455;\n",
              "      --disabled-fill-color: #666;\n",
              "  }\n",
              "\n",
              "  .colab-df-quickchart {\n",
              "    background-color: var(--bg-color);\n",
              "    border: none;\n",
              "    border-radius: 50%;\n",
              "    cursor: pointer;\n",
              "    display: none;\n",
              "    fill: var(--fill-color);\n",
              "    height: 32px;\n",
              "    padding: 0;\n",
              "    width: 32px;\n",
              "  }\n",
              "\n",
              "  .colab-df-quickchart:hover {\n",
              "    background-color: var(--hover-bg-color);\n",
              "    box-shadow: 0 1px 2px rgba(60, 64, 67, 0.3), 0 1px 3px 1px rgba(60, 64, 67, 0.15);\n",
              "    fill: var(--button-hover-fill-color);\n",
              "  }\n",
              "\n",
              "  .colab-df-quickchart-complete:disabled,\n",
              "  .colab-df-quickchart-complete:disabled:hover {\n",
              "    background-color: var(--disabled-bg-color);\n",
              "    fill: var(--disabled-fill-color);\n",
              "    box-shadow: none;\n",
              "  }\n",
              "\n",
              "  .colab-df-spinner {\n",
              "    border: 2px solid var(--fill-color);\n",
              "    border-color: transparent;\n",
              "    border-bottom-color: var(--fill-color);\n",
              "    animation:\n",
              "      spin 1s steps(1) infinite;\n",
              "  }\n",
              "\n",
              "  @keyframes spin {\n",
              "    0% {\n",
              "      border-color: transparent;\n",
              "      border-bottom-color: var(--fill-color);\n",
              "      border-left-color: var(--fill-color);\n",
              "    }\n",
              "    20% {\n",
              "      border-color: transparent;\n",
              "      border-left-color: var(--fill-color);\n",
              "      border-top-color: var(--fill-color);\n",
              "    }\n",
              "    30% {\n",
              "      border-color: transparent;\n",
              "      border-left-color: var(--fill-color);\n",
              "      border-top-color: var(--fill-color);\n",
              "      border-right-color: var(--fill-color);\n",
              "    }\n",
              "    40% {\n",
              "      border-color: transparent;\n",
              "      border-right-color: var(--fill-color);\n",
              "      border-top-color: var(--fill-color);\n",
              "    }\n",
              "    60% {\n",
              "      border-color: transparent;\n",
              "      border-right-color: var(--fill-color);\n",
              "    }\n",
              "    80% {\n",
              "      border-color: transparent;\n",
              "      border-right-color: var(--fill-color);\n",
              "      border-bottom-color: var(--fill-color);\n",
              "    }\n",
              "    90% {\n",
              "      border-color: transparent;\n",
              "      border-bottom-color: var(--fill-color);\n",
              "    }\n",
              "  }\n",
              "</style>\n",
              "\n",
              "  <script>\n",
              "    async function quickchart(key) {\n",
              "      const quickchartButtonEl =\n",
              "        document.querySelector('#' + key + ' button');\n",
              "      quickchartButtonEl.disabled = true;  // To prevent multiple clicks.\n",
              "      quickchartButtonEl.classList.add('colab-df-spinner');\n",
              "      try {\n",
              "        const charts = await google.colab.kernel.invokeFunction(\n",
              "            'suggestCharts', [key], {});\n",
              "      } catch (error) {\n",
              "        console.error('Error during call to suggestCharts:', error);\n",
              "      }\n",
              "      quickchartButtonEl.classList.remove('colab-df-spinner');\n",
              "      quickchartButtonEl.classList.add('colab-df-quickchart-complete');\n",
              "    }\n",
              "    (() => {\n",
              "      let quickchartButtonEl =\n",
              "        document.querySelector('#df-70b4b9aa-af1e-4a0d-8eef-c41e65b42a0c button');\n",
              "      quickchartButtonEl.style.display =\n",
              "        google.colab.kernel.accessAllowed ? 'block' : 'none';\n",
              "    })();\n",
              "  </script>\n",
              "</div>\n",
              "    </div>\n",
              "  </div>\n"
            ]
          },
          "metadata": {},
          "execution_count": 5
        }
      ],
      "source": [
        "df.describe()"
      ]
    },
    {
      "cell_type": "markdown",
      "metadata": {
        "id": "vjLpr_fCDTs6"
      },
      "source": [
        "### Explore unique values in the 'Crop' column"
      ]
    },
    {
      "cell_type": "code",
      "execution_count": 6,
      "metadata": {
        "colab": {
          "base_uri": "https://localhost:8080/"
        },
        "id": "PinQho-FCCGm",
        "outputId": "0005c1c6-5b58-4ef8-85c9-bff11ce173fc"
      },
      "outputs": [
        {
          "output_type": "stream",
          "name": "stdout",
          "text": [
            "Unique Crops:\n",
            "['Bajra' 'Banana' 'Barley' 'Bean' 'Black pepper' 'Blackgram'\n",
            " 'Bottle Gourd' 'Brinjal' 'Cabbage' 'Cardamom' 'Carrot' 'Castor seed'\n",
            " 'Cauliflower' 'Chillies' 'Colocosia' 'Coriander' 'Cotton' 'Cowpea'\n",
            " 'Drum Stick' 'Garlic' 'Ginger' 'Gram' 'Grapes' 'Groundnut' 'Guar seed'\n",
            " 'Horse-gram' 'Jowar' 'Jute' 'Khesari' 'Lady Finger' 'Lentil' 'Linseed'\n",
            " 'Maize' 'Mesta' 'Moong(Green Gram)' 'Moth' 'Onion' 'Orange' 'Papaya'\n",
            " 'Peas & beans (Pulses)' 'Pineapple' 'Potato' 'Raddish' 'Ragi' 'Rice'\n",
            " 'Safflower' 'Sannhamp' 'Sesamum' 'Soyabean' 'Sugarcane' 'Sunflower'\n",
            " 'Sweet potato' 'Tapioca' 'Tomato' 'Turmeric' 'Urad' 'Varagu' 'Wheat']\n"
          ]
        }
      ],
      "source": [
        "print(\"Unique Crops:\")\n",
        "print(df['crop'].unique())"
      ]
    },
    {
      "cell_type": "markdown",
      "metadata": {
        "id": "4ln_c81jDREw"
      },
      "source": [
        "### Visualize the distribution of numerical features"
      ]
    },
    {
      "cell_type": "code",
      "execution_count": 7,
      "metadata": {
        "colab": {
          "base_uri": "https://localhost:8080/",
          "height": 807
        },
        "id": "pf7EkWXTCF17",
        "outputId": "d2d4cb17-0db6-4092-9e7c-04d4f7cde934"
      },
      "outputs": [
        {
          "output_type": "display_data",
          "data": {
            "text/plain": [
              "<Figure size 1200x800 with 4 Axes>"
            ],
            "image/png": "[encoded data removed]"
          },
          "metadata": {}
        }
      ],
      "source": [
        "plt.figure(figsize=(12, 8))\n",
        "\n",
        "plt.subplot(2, 2, 1)\n",
        "sns.histplot(df['rainfall'], kde=True)\n",
        "plt.title('Distribution of Rainfall')\n",
        "\n",
        "plt.subplot(2, 2, 2)\n",
        "sns.histplot(df['temperature'], kde=True)\n",
        "plt.title('Distribution of Temperature')\n",
        "\n",
        "plt.subplot(2, 2, 3)\n",
        "sns.histplot(df['ph'], kde=True)\n",
        "plt.title('Distribution of pH')\n",
        "\n",
        "plt.subplot(2, 2, 4)\n",
        "sns.histplot(df['production'], kde=True)\n",
        "plt.title('Distribution of Production')\n",
        "\n",
        "plt.tight_layout()\n",
        "plt.show()"
      ]
    },
    {
      "cell_type": "markdown",
      "metadata": {
        "id": "WgGaMv6aEQDX"
      },
      "source": [
        "- Curah hujan memiliki distribusi yang tidak merata, dengan nilai tertinggi berada di sekitar 2500-3000 mm.\n",
        "\n",
        "- Suhu memiliki distribusi yang lebih merata, dengan nilai tertinggi berada di sekitar 25-30 derajat Celcius.\n",
        "\n",
        "- pH memiliki distribusi yang tidak merata, dengan nilai tertinggi berada di sekitar 7.\n",
        "\n",
        "- Produksi memiliki distribusi yang tidak merata, dengan nilai tertinggi berada di sekitar 800-1000."
      ]
    },
    {
      "cell_type": "markdown",
      "metadata": {
        "id": "HEl9OPetDJ41"
      },
      "source": [
        "### Visualize the relationship between features and the target variable"
      ]
    },
    {
      "cell_type": "code",
      "execution_count": 8,
      "metadata": {
        "colab": {
          "base_uri": "https://localhost:8080/",
          "height": 509
        },
        "id": "cB4cDm4YCJfV",
        "outputId": "f0435ee8-bbe3-41c1-9417-764ac2e81570"
      },
      "outputs": [
        {
          "output_type": "display_data",
          "data": {
            "text/plain": [
              "<Figure size 1500x600 with 3 Axes>"
            ],
            "image/png": "[encoded data removed]"
          },
          "metadata": {}
        }
      ],
      "source": [
        "plt.figure(figsize=(15, 6))\n",
        "\n",
        "plt.subplot(1, 3, 1)\n",
        "sns.scatterplot(x='rainfall', y='production', data=df)\n",
        "plt.title('Rainfall vs Production')\n",
        "\n",
        "plt.subplot(1, 3, 2)\n",
        "sns.scatterplot(x='temperature', y='production', data=df)\n",
        "plt.title('Temperature vs Production')\n",
        "\n",
        "plt.subplot(1, 3, 3)\n",
        "sns.scatterplot(x='ph', y='production', data=df)\n",
        "plt.title('pH vs Production')\n",
        "\n",
        "plt.tight_layout()\n",
        "plt.show()"
      ]
    },
    {
      "cell_type": "markdown",
      "metadata": {
        "id": "0AsV3AAsDcxw"
      },
      "source": [
        "### Explore correlations between numerical features"
      ]
    },
    {
      "cell_type": "code",
      "execution_count": 9,
      "metadata": {
        "colab": {
          "base_uri": "https://localhost:8080/",
          "height": 600
        },
        "id": "6nvN1a1_C6dt",
        "outputId": "2ae6ba28-7c01-4648-8aba-5bbef1ad5a31"
      },
      "outputs": [
        {
          "output_type": "stream",
          "name": "stderr",
          "text": [
            "<ipython-input-9-1a35ed39b4cd>:1: FutureWarning: The default value of numeric_only in DataFrame.corr is deprecated. In a future version, it will default to False. Select only valid columns or specify the value of numeric_only to silence this warning.\n",
            "  correlation_matrix = df.corr()\n"
          ]
        },
        {
          "output_type": "display_data",
          "data": {
            "text/plain": [
              "<Figure size 800x600 with 2 Axes>"
            ],
            "image/png": "[encoded data removed]"
          },
          "metadata": {}
        }
      ],
      "source": [
        "correlation_matrix = df.corr()\n",
        "plt.figure(figsize=(8, 6))\n",
        "sns.heatmap(correlation_matrix, annot=True, cmap='coolwarm', fmt='.2f', linewidths=5)\n",
        "plt.title('Correlation Matrix')\n",
        "plt.show()"
      ]
    },
    {
      "cell_type": "markdown",
      "metadata": {
        "id": "75HE7__FILnb"
      },
      "source": [
        "> Berdasarkan hasil visualisasi, dapat disimpulkan bahwa terdapat korelasi positif yang kuat antara curah hujan dan produksi. Artinya, semakin tinggi curah hujan, semakin tinggi pula produksi. Korelasi negatif yang kuat juga ditemukan antara suhu dan produksi. Artinya, semakin tinggi suhu, semakin rendah pula produksi. Korelasi yang lebih lemah ditemukan antara pH dan produksi. Artinya, pH memiliki pengaruh yang lebih kecil terhadap produksi dibandingkan curah hujan dan suhu."
      ]
    },
    {
      "cell_type": "markdown",
      "metadata": {
        "id": "sfgIvntmIVYo"
      },
      "source": [
        "## Data Preprocesing"
      ]
    },
    {
      "cell_type": "markdown",
      "metadata": {
        "id": "6yfBEc8DTx67"
      },
      "source": [
        "### Encode Categorical Variable 'Crop'"
      ]
    },
    {
      "cell_type": "code",
      "execution_count": 10,
      "metadata": {
        "id": "-fn9CBf4ZwmN"
      },
      "outputs": [],
      "source": [
        "label_encoder = LabelEncoder()\n",
        "df['crop'] = label_encoder.fit_transform(df['crop'])"
      ]
    },
    {
      "cell_type": "code",
      "execution_count": 11,
      "metadata": {
        "colab": {
          "base_uri": "https://localhost:8080/"
        },
        "id": "j9ve0bNeeV9q",
        "outputId": "53d981d7-6d59-4ba6-e48e-c85f9536054a"
      },
      "outputs": [
        {
          "output_type": "execute_result",
          "data": {
            "text/plain": [
              "array([ 0,  1,  2,  3,  4,  5,  6,  7,  8,  9, 10, 11, 12, 13, 14, 15, 16,\n",
              "       17, 18, 19, 20, 21, 22, 23, 24, 25, 26, 27, 28, 29, 30, 31, 32, 33,\n",
              "       34, 35, 36, 37, 38, 39, 40, 41, 42, 43, 44, 45, 46, 47, 48, 49, 50,\n",
              "       51, 52, 53, 54, 55, 56, 57])"
            ]
          },
          "metadata": {},
          "execution_count": 11
        }
      ],
      "source": [
        "df['crop'].unique()"
      ]
    },
    {
      "cell_type": "code",
      "execution_count": 12,
      "metadata": {
        "colab": {
          "base_uri": "https://localhost:8080/",
          "height": 1000
        },
        "id": "1B-XNVmbNqDH",
        "outputId": "38a3a48d-2af3-4bff-b914-1c4e88dac449"
      },
      "outputs": [
        {
          "output_type": "execute_result",
          "data": {
            "text/plain": [
              "                Original Crop  Encoded Crop\n",
              "0                       Bajra             0\n",
              "5223                   Banana             1\n",
              "8311                   Barley             2\n",
              "12345                    Bean             3\n",
              "12365            Black pepper             4\n",
              "13232               Blackgram             5\n",
              "13326            Bottle Gourd             6\n",
              "13334                 Brinjal             7\n",
              "13593                 Cabbage             8\n",
              "13663                Cardamom             9\n",
              "13968                  Carrot            10\n",
              "13982             Castor seed            11\n",
              "16841             Cauliflower            12\n",
              "16856                Chillies            13\n",
              "23119               Colocosia            14\n",
              "23130               Coriander            15\n",
              "26063                  Cotton            16\n",
              "30178                  Cowpea            17\n",
              "30691              Drum Stick            18\n",
              "30749                  Garlic            19\n",
              "33886                  Ginger            20\n",
              "37013                    Gram            21\n",
              "43987                  Grapes            22\n",
              "44097               Groundnut            23\n",
              "52621               Guar seed            24\n",
              "53839              Horse-gram            25\n",
              "57458                   Jowar            26\n",
              "64270                    Jute            27\n",
              "65693                 Khesari            28\n",
              "67024             Lady Finger            29\n",
              "67141                  Lentil            30\n",
              "67172                 Linseed            31\n",
              "71177                   Maize            32\n",
              "84707                   Mesta            33\n",
              "86451       Moong(Green Gram)            34\n",
              "95894                    Moth            35\n",
              "96507                   Onion            36\n",
              "103475                 Orange            37\n",
              "103699                 Papaya            38\n",
              "104107  Peas & beans (Pulses)            39\n",
              "108441              Pineapple            40\n",
              "108442                 Potato            41\n",
              "115322                Raddish            42\n",
              "115341                   Ragi            43\n",
              "119207                   Rice            44\n",
              "134270              Safflower            45\n",
              "135467               Sannhamp            46\n",
              "137418                Sesamum            47\n",
              "145818               Soyabean            48\n",
              "148907              Sugarcane            49\n",
              "156680              Sunflower            50\n",
              "161962           Sweet potato            51\n",
              "166064                Tapioca            52\n",
              "167645                 Tomato            53\n",
              "167920               Turmeric            54\n",
              "171975                   Urad            55\n",
              "181344                 Varagu            56\n",
              "181395                  Wheat            57"
            ],
            "text/html": [
              "\n",
              "  <div id=\"df-e299227e-ccec-4081-93f0-920ff1537405\" class=\"colab-df-container\">\n",
              "    <div>\n",
              "<style scoped>\n",
              "    .dataframe tbody tr th:only-of-type {\n",
              "        vertical-align: middle;\n",
              "    }\n",
              "\n",
              "    .dataframe tbody tr th {\n",
              "        vertical-align: top;\n",
              "    }\n",
              "\n",
              "    .dataframe thead th {\n",
              "        text-align: right;\n",
              "    }\n",
              "</style>\n",
              "<table border=\"1\" class=\"dataframe\">\n",
              "  <thead>\n",
              "    <tr style=\"text-align: right;\">\n",
              "      <th></th>\n",
              "      <th>Original Crop</th>\n",
              "      <th>Encoded Crop</th>\n",
              "    </tr>\n",
              "  </thead>\n",
              "  <tbody>\n",
              "    <tr>\n",
              "      <th>0</th>\n",
              "      <td>Bajra</td>\n",
              "      <td>0</td>\n",
              "    </tr>\n",
              "    <tr>\n",
              "      <th>5223</th>\n",
              "      <td>Banana</td>\n",
              "      <td>1</td>\n",
              "    </tr>\n",
              "    <tr>\n",
              "      <th>8311</th>\n",
              "      <td>Barley</td>\n",
              "      <td>2</td>\n",
              "    </tr>\n",
              "    <tr>\n",
              "      <th>12345</th>\n",
              "      <td>Bean</td>\n",
              "      <td>3</td>\n",
              "    </tr>\n",
              "    <tr>\n",
              "      <th>12365</th>\n",
              "      <td>Black pepper</td>\n",
              "      <td>4</td>\n",
              "    </tr>\n",
              "    <tr>\n",
              "      <th>13232</th>\n",
              "      <td>Blackgram</td>\n",
              "      <td>5</td>\n",
              "    </tr>\n",
              "    <tr>\n",
              "      <th>13326</th>\n",
              "      <td>Bottle Gourd</td>\n",
              "      <td>6</td>\n",
              "    </tr>\n",
              "    <tr>\n",
              "      <th>13334</th>\n",
              "      <td>Brinjal</td>\n",
              "      <td>7</td>\n",
              "    </tr>\n",
              "    <tr>\n",
              "      <th>13593</th>\n",
              "      <td>Cabbage</td>\n",
              "      <td>8</td>\n",
              "    </tr>\n",
              "    <tr>\n",
              "      <th>13663</th>\n",
              "      <td>Cardamom</td>\n",
              "      <td>9</td>\n",
              "    </tr>\n",
              "    <tr>\n",
              "      <th>13968</th>\n",
              "      <td>Carrot</td>\n",
              "      <td>10</td>\n",
              "    </tr>\n",
              "    <tr>\n",
              "      <th>13982</th>\n",
              "      <td>Castor seed</td>\n",
              "      <td>11</td>\n",
              "    </tr>\n",
              "    <tr>\n",
              "      <th>16841</th>\n",
              "      <td>Cauliflower</td>\n",
              "      <td>12</td>\n",
              "    </tr>\n",
              "    <tr>\n",
              "      <th>16856</th>\n",
              "      <td>Chillies</td>\n",
              "      <td>13</td>\n",
              "    </tr>\n",
              "    <tr>\n",
              "      <th>23119</th>\n",
              "      <td>Colocosia</td>\n",
              "      <td>14</td>\n",
              "    </tr>\n",
              "    <tr>\n",
              "      <th>23130</th>\n",
              "      <td>Coriander</td>\n",
              "      <td>15</td>\n",
              "    </tr>\n",
              "    <tr>\n",
              "      <th>26063</th>\n",
              "      <td>Cotton</td>\n",
              "      <td>16</td>\n",
              "    </tr>\n",
              "    <tr>\n",
              "      <th>30178</th>\n",
              "      <td>Cowpea</td>\n",
              "      <td>17</td>\n",
              "    </tr>\n",
              "    <tr>\n",
              "      <th>30691</th>\n",
              "      <td>Drum Stick</td>\n",
              "      <td>18</td>\n",
              "    </tr>\n",
              "    <tr>\n",
              "      <th>30749</th>\n",
              "      <td>Garlic</td>\n",
              "      <td>19</td>\n",
              "    </tr>\n",
              "    <tr>\n",
              "      <th>33886</th>\n",
              "      <td>Ginger</td>\n",
              "      <td>20</td>\n",
              "    </tr>\n",
              "    <tr>\n",
              "      <th>37013</th>\n",
              "      <td>Gram</td>\n",
              "      <td>21</td>\n",
              "    </tr>\n",
              "    <tr>\n",
              "      <th>43987</th>\n",
              "      <td>Grapes</td>\n",
              "      <td>22</td>\n",
              "    </tr>\n",
              "    <tr>\n",
              "      <th>44097</th>\n",
              "      <td>Groundnut</td>\n",
              "      <td>23</td>\n",
              "    </tr>\n",
              "    <tr>\n",
              "      <th>52621</th>\n",
              "      <td>Guar seed</td>\n",
              "      <td>24</td>\n",
              "    </tr>\n",
              "    <tr>\n",
              "      <th>53839</th>\n",
              "      <td>Horse-gram</td>\n",
              "      <td>25</td>\n",
              "    </tr>\n",
              "    <tr>\n",
              "      <th>57458</th>\n",
              "      <td>Jowar</td>\n",
              "      <td>26</td>\n",
              "    </tr>\n",
              "    <tr>\n",
              "      <th>64270</th>\n",
              "      <td>Jute</td>\n",
              "      <td>27</td>\n",
              "    </tr>\n",
              "    <tr>\n",
              "      <th>65693</th>\n",
              "      <td>Khesari</td>\n",
              "      <td>28</td>\n",
              "    </tr>\n",
              "    <tr>\n",
              "      <th>67024</th>\n",
              "      <td>Lady Finger</td>\n",
              "      <td>29</td>\n",
              "    </tr>\n",
              "    <tr>\n",
              "      <th>67141</th>\n",
              "      <td>Lentil</td>\n",
              "      <td>30</td>\n",
              "    </tr>\n",
              "    <tr>\n",
              "      <th>67172</th>\n",
              "      <td>Linseed</td>\n",
              "      <td>31</td>\n",
              "    </tr>\n",
              "    <tr>\n",
              "      <th>71177</th>\n",
              "      <td>Maize</td>\n",
              "      <td>32</td>\n",
              "    </tr>\n",
              "    <tr>\n",
              "      <th>84707</th>\n",
              "      <td>Mesta</td>\n",
              "      <td>33</td>\n",
              "    </tr>\n",
              "    <tr>\n",
              "      <th>86451</th>\n",
              "      <td>Moong(Green Gram)</td>\n",
              "      <td>34</td>\n",
              "    </tr>\n",
              "    <tr>\n",
              "      <th>95894</th>\n",
              "      <td>Moth</td>\n",
              "      <td>35</td>\n",
              "    </tr>\n",
              "    <tr>\n",
              "      <th>96507</th>\n",
              "      <td>Onion</td>\n",
              "      <td>36</td>\n",
              "    </tr>\n",
              "    <tr>\n",
              "      <th>103475</th>\n",
              "      <td>Orange</td>\n",
              "      <td>37</td>\n",
              "    </tr>\n",
              "    <tr>\n",
              "      <th>103699</th>\n",
              "      <td>Papaya</td>\n",
              "      <td>38</td>\n",
              "    </tr>\n",
              "    <tr>\n",
              "      <th>104107</th>\n",
              "      <td>Peas &amp; beans (Pulses)</td>\n",
              "      <td>39</td>\n",
              "    </tr>\n",
              "    <tr>\n",
              "      <th>108441</th>\n",
              "      <td>Pineapple</td>\n",
              "      <td>40</td>\n",
              "    </tr>\n",
              "    <tr>\n",
              "      <th>108442</th>\n",
              "      <td>Potato</td>\n",
              "      <td>41</td>\n",
              "    </tr>\n",
              "    <tr>\n",
              "      <th>115322</th>\n",
              "      <td>Raddish</td>\n",
              "      <td>42</td>\n",
              "    </tr>\n",
              "    <tr>\n",
              "      <th>115341</th>\n",
              "      <td>Ragi</td>\n",
              "      <td>43</td>\n",
              "    </tr>\n",
              "    <tr>\n",
              "      <th>119207</th>\n",
              "      <td>Rice</td>\n",
              "      <td>44</td>\n",
              "    </tr>\n",
              "    <tr>\n",
              "      <th>134270</th>\n",
              "      <td>Safflower</td>\n",
              "      <td>45</td>\n",
              "    </tr>\n",
              "    <tr>\n",
              "      <th>135467</th>\n",
              "      <td>Sannhamp</td>\n",
              "      <td>46</td>\n",
              "    </tr>\n",
              "    <tr>\n",
              "      <th>137418</th>\n",
              "      <td>Sesamum</td>\n",
              "      <td>47</td>\n",
              "    </tr>\n",
              "    <tr>\n",
              "      <th>145818</th>\n",
              "      <td>Soyabean</td>\n",
              "      <td>48</td>\n",
              "    </tr>\n",
              "    <tr>\n",
              "      <th>148907</th>\n",
              "      <td>Sugarcane</td>\n",
              "      <td>49</td>\n",
              "    </tr>\n",
              "    <tr>\n",
              "      <th>156680</th>\n",
              "      <td>Sunflower</td>\n",
              "      <td>50</td>\n",
              "    </tr>\n",
              "    <tr>\n",
              "      <th>161962</th>\n",
              "      <td>Sweet potato</td>\n",
              "      <td>51</td>\n",
              "    </tr>\n",
              "    <tr>\n",
              "      <th>166064</th>\n",
              "      <td>Tapioca</td>\n",
              "      <td>52</td>\n",
              "    </tr>\n",
              "    <tr>\n",
              "      <th>167645</th>\n",
              "      <td>Tomato</td>\n",
              "      <td>53</td>\n",
              "    </tr>\n",
              "    <tr>\n",
              "      <th>167920</th>\n",
              "      <td>Turmeric</td>\n",
              "      <td>54</td>\n",
              "    </tr>\n",
              "    <tr>\n",
              "      <th>171975</th>\n",
              "      <td>Urad</td>\n",
              "      <td>55</td>\n",
              "    </tr>\n",
              "    <tr>\n",
              "      <th>181344</th>\n",
              "      <td>Varagu</td>\n",
              "      <td>56</td>\n",
              "    </tr>\n",
              "    <tr>\n",
              "      <th>181395</th>\n",
              "      <td>Wheat</td>\n",
              "      <td>57</td>\n",
              "    </tr>\n",
              "  </tbody>\n",
              "</table>\n",
              "</div>\n",
              "    <div class=\"colab-df-buttons\">\n",
              "\n",
              "  <div class=\"colab-df-container\">\n",
              "    <button class=\"colab-df-convert\" onclick=\"convertToInteractive('df-e299227e-ccec-4081-93f0-920ff1537405')\"\n",
              "            title=\"Convert this dataframe to an interactive table.\"\n",
              "            style=\"display:none;\">\n",
              "\n",
              "  <svg xmlns=\"http://www.w3.org/2000/svg\" height=\"24px\" viewBox=\"0 -960 960 960\">\n",
              "    <path d=\"M120-120v-720h720v720H120Zm60-500h600v-160H180v160Zm220 220h160v-160H400v160Zm0 220h160v-160H400v160ZM180-400h160v-160H180v160Zm440 0h160v-160H620v160ZM180-180h160v-160H180v160Zm440 0h160v-160H620v160Z\"/>\n",
              "  </svg>\n",
              "    </button>\n",
              "\n",
              "  <style>\n",
              "    .colab-df-container {\n",
              "      display:flex;\n",
              "      gap: 12px;\n",
              "    }\n",
              "\n",
              "    .colab-df-convert {\n",
              "      background-color: #E8F0FE;\n",
              "      border: none;\n",
              "      border-radius: 50%;\n",
              "      cursor: pointer;\n",
              "      display: none;\n",
              "      fill: #1967D2;\n",
              "      height: 32px;\n",
              "      padding: 0 0 0 0;\n",
              "      width: 32px;\n",
              "    }\n",
              "\n",
              "    .colab-df-convert:hover {\n",
              "      background-color: #E2EBFA;\n",
              "      box-shadow: 0px 1px 2px rgba(60, 64, 67, 0.3), 0px 1px 3px 1px rgba(60, 64, 67, 0.15);\n",
              "      fill: #174EA6;\n",
              "    }\n",
              "\n",
              "    .colab-df-buttons div {\n",
              "      margin-bottom: 4px;\n",
              "    }\n",
              "\n",
              "    [theme=dark] .colab-df-convert {\n",
              "      background-color: #3B4455;\n",
              "      fill: #D2E3FC;\n",
              "    }\n",
              "\n",
              "    [theme=dark] .colab-df-convert:hover {\n",
              "      background-color: #434B5C;\n",
              "      box-shadow: 0px 1px 3px 1px rgba(0, 0, 0, 0.15);\n",
              "      filter: drop-shadow(0px 1px 2px rgba(0, 0, 0, 0.3));\n",
              "      fill: #FFFFFF;\n",
              "    }\n",
              "  </style>\n",
              "\n",
              "    <script>\n",
              "      const buttonEl =\n",
              "        document.querySelector('#df-e299227e-ccec-4081-93f0-920ff1537405 button.colab-df-convert');\n",
              "      buttonEl.style.display =\n",
              "        google.colab.kernel.accessAllowed ? 'block' : 'none';\n",
              "\n",
              "      async function convertToInteractive(key) {\n",
              "        const element = document.querySelector('#df-e299227e-ccec-4081-93f0-920ff1537405');\n",
              "        const dataTable =\n",
              "          await google.colab.kernel.invokeFunction('convertToInteractive',\n",
              "                                                    [key], {});\n",
              "        if (!dataTable) return;\n",
              "\n",
              "        const docLinkHtml = 'Like what you see? Visit the ' +\n",
              "          '<a target=\"_blank\" href=https://colab.research.google.com/notebooks/data_table.ipynb>data table notebook</a>'\n",
              "          + ' to learn more about interactive tables.';\n",
              "        element.innerHTML = '';\n",
              "        dataTable['output_type'] = 'display_data';\n",
              "        await google.colab.output.renderOutput(dataTable, element);\n",
              "        const docLink = document.createElement('div');\n",
              "        docLink.innerHTML = docLinkHtml;\n",
              "        element.appendChild(docLink);\n",
              "      }\n",
              "    </script>\n",
              "  </div>\n",
              "\n",
              "\n",
              "<div id=\"df-405562f0-8d51-40d6-a7f0-6af31ce0ce91\">\n",
              "  <button class=\"colab-df-quickchart\" onclick=\"quickchart('df-405562f0-8d51-40d6-a7f0-6af31ce0ce91')\"\n",
              "            title=\"Suggest charts\"\n",
              "            style=\"display:none;\">\n",
              "\n",
              "<svg xmlns=\"http://www.w3.org/2000/svg\" height=\"24px\"viewBox=\"0 0 24 24\"\n",
              "     width=\"24px\">\n",
              "    <g>\n",
              "        <path d=\"M19 3H5c-1.1 0-2 .9-2 2v14c0 1.1.9 2 2 2h14c1.1 0 2-.9 2-2V5c0-1.1-.9-2-2-2zM9 17H7v-7h2v7zm4 0h-2V7h2v10zm4 0h-2v-4h2v4z\"/>\n",
              "    </g>\n",
              "</svg>\n",
              "  </button>\n",
              "\n",
              "<style>\n",
              "  .colab-df-quickchart {\n",
              "      --bg-color: #E8F0FE;\n",
              "      --fill-color: #1967D2;\n",
              "      --hover-bg-color: #E2EBFA;\n",
              "      --hover-fill-color: #174EA6;\n",
              "      --disabled-fill-color: #AAA;\n",
              "      --disabled-bg-color: #DDD;\n",
              "  }\n",
              "\n",
              "  [theme=dark] .colab-df-quickchart {\n",
              "      --bg-color: #3B4455;\n",
              "      --fill-color: #D2E3FC;\n",
              "      --hover-bg-color: #434B5C;\n",
              "      --hover-fill-color: #FFFFFF;\n",
              "      --disabled-bg-color: #3B4455;\n",
              "      --disabled-fill-color: #666;\n",
              "  }\n",
              "\n",
              "  .colab-df-quickchart {\n",
              "    background-color: var(--bg-color);\n",
              "    border: none;\n",
              "    border-radius: 50%;\n",
              "    cursor: pointer;\n",
              "    display: none;\n",
              "    fill: var(--fill-color);\n",
              "    height: 32px;\n",
              "    padding: 0;\n",
              "    width: 32px;\n",
              "  }\n",
              "\n",
              "  .colab-df-quickchart:hover {\n",
              "    background-color: var(--hover-bg-color);\n",
              "    box-shadow: 0 1px 2px rgba(60, 64, 67, 0.3), 0 1px 3px 1px rgba(60, 64, 67, 0.15);\n",
              "    fill: var(--button-hover-fill-color);\n",
              "  }\n",
              "\n",
              "  .colab-df-quickchart-complete:disabled,\n",
              "  .colab-df-quickchart-complete:disabled:hover {\n",
              "    background-color: var(--disabled-bg-color);\n",
              "    fill: var(--disabled-fill-color);\n",
              "    box-shadow: none;\n",
              "  }\n",
              "\n",
              "  .colab-df-spinner {\n",
              "    border: 2px solid var(--fill-color);\n",
              "    border-color: transparent;\n",
              "    border-bottom-color: var(--fill-color);\n",
              "    animation:\n",
              "      spin 1s steps(1) infinite;\n",
              "  }\n",
              "\n",
              "  @keyframes spin {\n",
              "    0% {\n",
              "      border-color: transparent;\n",
              "      border-bottom-color: var(--fill-color);\n",
              "      border-left-color: var(--fill-color);\n",
              "    }\n",
              "    20% {\n",
              "      border-color: transparent;\n",
              "      border-left-color: var(--fill-color);\n",
              "      border-top-color: var(--fill-color);\n",
              "    }\n",
              "    30% {\n",
              "      border-color: transparent;\n",
              "      border-left-color: var(--fill-color);\n",
              "      border-top-color: var(--fill-color);\n",
              "      border-right-color: var(--fill-color);\n",
              "    }\n",
              "    40% {\n",
              "      border-color: transparent;\n",
              "      border-right-color: var(--fill-color);\n",
              "      border-top-color: var(--fill-color);\n",
              "    }\n",
              "    60% {\n",
              "      border-color: transparent;\n",
              "      border-right-color: var(--fill-color);\n",
              "    }\n",
              "    80% {\n",
              "      border-color: transparent;\n",
              "      border-right-color: var(--fill-color);\n",
              "      border-bottom-color: var(--fill-color);\n",
              "    }\n",
              "    90% {\n",
              "      border-color: transparent;\n",
              "      border-bottom-color: var(--fill-color);\n",
              "    }\n",
              "  }\n",
              "</style>\n",
              "\n",
              "  <script>\n",
              "    async function quickchart(key) {\n",
              "      const quickchartButtonEl =\n",
              "        document.querySelector('#' + key + ' button');\n",
              "      quickchartButtonEl.disabled = true;  // To prevent multiple clicks.\n",
              "      quickchartButtonEl.classList.add('colab-df-spinner');\n",
              "      try {\n",
              "        const charts = await google.colab.kernel.invokeFunction(\n",
              "            'suggestCharts', [key], {});\n",
              "      } catch (error) {\n",
              "        console.error('Error during call to suggestCharts:', error);\n",
              "      }\n",
              "      quickchartButtonEl.classList.remove('colab-df-spinner');\n",
              "      quickchartButtonEl.classList.add('colab-df-quickchart-complete');\n",
              "    }\n",
              "    (() => {\n",
              "      let quickchartButtonEl =\n",
              "        document.querySelector('#df-405562f0-8d51-40d6-a7f0-6af31ce0ce91 button');\n",
              "      quickchartButtonEl.style.display =\n",
              "        google.colab.kernel.accessAllowed ? 'block' : 'none';\n",
              "    })();\n",
              "  </script>\n",
              "</div>\n",
              "    </div>\n",
              "  </div>\n"
            ]
          },
          "metadata": {},
          "execution_count": 12
        }
      ],
      "source": [
        "# Decode the encoded values back to original\n",
        "decoded_crop_values = label_encoder.inverse_transform(df['crop'].values)\n",
        "\n",
        "# Compare original and decoded values\n",
        "comparison_df = pd.DataFrame({\n",
        "    'Original Crop': decoded_crop_values,\n",
        "    'Encoded Crop': df['crop'].values\n",
        "})\n",
        "\n",
        "# Display only unique rows\n",
        "unique_comparison_df = comparison_df.drop_duplicates()\n",
        "\n",
        "# Display the unique comparison\n",
        "unique_comparison_df.head(58)"
      ]
    },
    {
      "cell_type": "markdown",
      "metadata": {
        "id": "Y_dHJNBzT4o-"
      },
      "source": [
        "### Handling Outliers using Isolation Forest"
      ]
    },
    {
      "cell_type": "code",
      "execution_count": 13,
      "metadata": {
        "colab": {
          "base_uri": "https://localhost:8080/"
        },
        "id": "959wS3NtTzpd",
        "outputId": "6f0264da-0102-41c5-bc17-9fd1b758b0b5"
      },
      "outputs": [
        {
          "output_type": "stream",
          "name": "stderr",
          "text": [
            "/usr/local/lib/python3.10/dist-packages/sklearn/base.py:439: UserWarning: X does not have valid feature names, but IsolationForest was fitted with feature names\n",
            "  warnings.warn(\n"
          ]
        },
        {
          "output_type": "stream",
          "name": "stdout",
          "text": [
            "            rainfall    temperature             ph           crop  \\\n",
            "count  179779.000000  179779.000000  179779.000000  179779.000000   \n",
            "mean      674.255361      25.207241       6.333361      34.517647   \n",
            "std       257.516019       4.498681       0.727534      14.837092   \n",
            "min       100.003400      10.300000       3.500000       0.000000   \n",
            "25%       514.388180      22.045910       5.800000      23.000000   \n",
            "50%       626.744190      25.000000       6.300000      34.000000   \n",
            "75%       744.577755      28.050000       6.800000      47.000000   \n",
            "max      2060.625000      39.045000       8.800000      57.000000   \n",
            "\n",
            "          production  \n",
            "count  179779.000000  \n",
            "mean        3.671192  \n",
            "std         8.065941  \n",
            "min         0.000340  \n",
            "25%         0.573430  \n",
            "50%         1.118790  \n",
            "75%         2.600000  \n",
            "max        74.043480  \n"
          ]
        }
      ],
      "source": [
        "outlier_detector = IsolationForest(contamination=0.05)  # You can adjust the contamination parameter\n",
        "outliers = outlier_detector.fit_predict(df)\n",
        "df['outlier'] = outliers\n",
        "\n",
        "# Remove rows with outliers\n",
        "df = df[df['outlier'] == 1].drop('outlier', axis=1)\n",
        "\n",
        "# Display summary statistics for numerical columns after handling outliers\n",
        "print(df.describe())"
      ]
    },
    {
      "cell_type": "markdown",
      "metadata": {
        "id": "gHTLtYa4WGpb"
      },
      "source": [
        "### Calculate the correlation matrix"
      ]
    },
    {
      "cell_type": "code",
      "execution_count": 14,
      "metadata": {
        "colab": {
          "base_uri": "https://localhost:8080/",
          "height": 734
        },
        "id": "SfBe3JHiV8_M",
        "outputId": "543b0f0f-0aec-476f-ae9c-a007e2dc1b23"
      },
      "outputs": [
        {
          "output_type": "display_data",
          "data": {
            "text/plain": [
              "<Figure size 1000x800 with 2 Axes>"
            ],
            "image/png": "[encoded data removed]"
          },
          "metadata": {}
        },
        {
          "output_type": "stream",
          "name": "stdout",
          "text": [
            "Highly Correlated Features Removed: set()\n",
            "Remaining Features: Index(['rainfall', 'temperature', 'ph', 'crop', 'production'], dtype='object')\n"
          ]
        }
      ],
      "source": [
        "correlation_matrix = df.corr()\n",
        "\n",
        "# Visualize the correlation matrix\n",
        "plt.figure(figsize=(10, 8))\n",
        "sns.heatmap(correlation_matrix, annot=True, cmap='coolwarm', fmt='.2f', linewidths=.5)\n",
        "plt.title('Correlation Matrix')\n",
        "plt.show()\n",
        "\n",
        "# Identify and remove highly correlated features (threshold set to 0.8)\n",
        "threshold = 0.8\n",
        "highly_correlated = set()\n",
        "for i in range(len(correlation_matrix.columns)):\n",
        "    for j in range(i):\n",
        "        if abs(correlation_matrix.iloc[i, j]) > threshold:\n",
        "            colname = correlation_matrix.columns[i]\n",
        "            highly_correlated.add(colname)\n",
        "\n",
        "# Drop highly correlated features\n",
        "df_filtered = df.drop(columns=highly_correlated)\n",
        "print(\"Highly Correlated Features Removed:\", highly_correlated)\n",
        "print(\"Remaining Features:\", df_filtered.columns)"
      ]
    },
    {
      "cell_type": "markdown",
      "metadata": {
        "id": "dugriPvmU6y3"
      },
      "source": [
        "### Separate features (X) and target variable (y)"
      ]
    },
    {
      "cell_type": "markdown",
      "metadata": {
        "id": "KVuG9SFrbQeD"
      },
      "source": [
        "#### Clasification"
      ]
    },
    {
      "cell_type": "code",
      "execution_count": 15,
      "metadata": {
        "colab": {
          "base_uri": "https://localhost:8080/",
          "height": 206
        },
        "id": "dauzmQ3JUBW5",
        "outputId": "f4a398be-2bfc-49be-dae1-78ca6506e447"
      },
      "outputs": [
        {
          "output_type": "execute_result",
          "data": {
            "text/plain": [
              "       rainfall  temperature   ph\n",
              "1182  413.78619         25.6  3.5\n",
              "1183  413.78761         24.4  3.7\n",
              "1184  413.78884         26.0  3.7\n",
              "1185  413.79388         26.0  3.7\n",
              "1186  413.80007         26.0  3.7"
            ],
            "text/html": [
              "\n",
              "  <div id=\"df-587669c0-f57f-4f2f-ad4e-3d8a13299e49\" class=\"colab-df-container\">\n",
              "    <div>\n",
              "<style scoped>\n",
              "    .dataframe tbody tr th:only-of-type {\n",
              "        vertical-align: middle;\n",
              "    }\n",
              "\n",
              "    .dataframe tbody tr th {\n",
              "        vertical-align: top;\n",
              "    }\n",
              "\n",
              "    .dataframe thead th {\n",
              "        text-align: right;\n",
              "    }\n",
              "</style>\n",
              "<table border=\"1\" class=\"dataframe\">\n",
              "  <thead>\n",
              "    <tr style=\"text-align: right;\">\n",
              "      <th></th>\n",
              "      <th>rainfall</th>\n",
              "      <th>temperature</th>\n",
              "      <th>ph</th>\n",
              "    </tr>\n",
              "  </thead>\n",
              "  <tbody>\n",
              "    <tr>\n",
              "      <th>1182</th>\n",
              "      <td>413.78619</td>\n",
              "      <td>25.6</td>\n",
              "      <td>3.5</td>\n",
              "    </tr>\n",
              "    <tr>\n",
              "      <th>1183</th>\n",
              "      <td>413.78761</td>\n",
              "      <td>24.4</td>\n",
              "      <td>3.7</td>\n",
              "    </tr>\n",
              "    <tr>\n",
              "      <th>1184</th>\n",
              "      <td>413.78884</td>\n",
              "      <td>26.0</td>\n",
              "      <td>3.7</td>\n",
              "    </tr>\n",
              "    <tr>\n",
              "      <th>1185</th>\n",
              "      <td>413.79388</td>\n",
              "      <td>26.0</td>\n",
              "      <td>3.7</td>\n",
              "    </tr>\n",
              "    <tr>\n",
              "      <th>1186</th>\n",
              "      <td>413.80007</td>\n",
              "      <td>26.0</td>\n",
              "      <td>3.7</td>\n",
              "    </tr>\n",
              "  </tbody>\n",
              "</table>\n",
              "</div>\n",
              "    <div class=\"colab-df-buttons\">\n",
              "\n",
              "  <div class=\"colab-df-container\">\n",
              "    <button class=\"colab-df-convert\" onclick=\"convertToInteractive('df-587669c0-f57f-4f2f-ad4e-3d8a13299e49')\"\n",
              "            title=\"Convert this dataframe to an interactive table.\"\n",
              "            style=\"display:none;\">\n",
              "\n",
              "  <svg xmlns=\"http://www.w3.org/2000/svg\" height=\"24px\" viewBox=\"0 -960 960 960\">\n",
              "    <path d=\"M120-120v-720h720v720H120Zm60-500h600v-160H180v160Zm220 220h160v-160H400v160Zm0 220h160v-160H400v160ZM180-400h160v-160H180v160Zm440 0h160v-160H620v160ZM180-180h160v-160H180v160Zm440 0h160v-160H620v160Z\"/>\n",
              "  </svg>\n",
              "    </button>\n",
              "\n",
              "  <style>\n",
              "    .colab-df-container {\n",
              "      display:flex;\n",
              "      gap: 12px;\n",
              "    }\n",
              "\n",
              "    .colab-df-convert {\n",
              "      background-color: #E8F0FE;\n",
              "      border: none;\n",
              "      border-radius: 50%;\n",
              "      cursor: pointer;\n",
              "      display: none;\n",
              "      fill: #1967D2;\n",
              "      height: 32px;\n",
              "      padding: 0 0 0 0;\n",
              "      width: 32px;\n",
              "    }\n",
              "\n",
              "    .colab-df-convert:hover {\n",
              "      background-color: #E2EBFA;\n",
              "      box-shadow: 0px 1px 2px rgba(60, 64, 67, 0.3), 0px 1px 3px 1px rgba(60, 64, 67, 0.15);\n",
              "      fill: #174EA6;\n",
              "    }\n",
              "\n",
              "    .colab-df-buttons div {\n",
              "      margin-bottom: 4px;\n",
              "    }\n",
              "\n",
              "    [theme=dark] .colab-df-convert {\n",
              "      background-color: #3B4455;\n",
              "      fill: #D2E3FC;\n",
              "    }\n",
              "\n",
              "    [theme=dark] .colab-df-convert:hover {\n",
              "      background-color: #434B5C;\n",
              "      box-shadow: 0px 1px 3px 1px rgba(0, 0, 0, 0.15);\n",
              "      filter: drop-shadow(0px 1px 2px rgba(0, 0, 0, 0.3));\n",
              "      fill: #FFFFFF;\n",
              "    }\n",
              "  </style>\n",
              "\n",
              "    <script>\n",
              "      const buttonEl =\n",
              "        document.querySelector('#df-587669c0-f57f-4f2f-ad4e-3d8a13299e49 button.colab-df-convert');\n",
              "      buttonEl.style.display =\n",
              "        google.colab.kernel.accessAllowed ? 'block' : 'none';\n",
              "\n",
              "      async function convertToInteractive(key) {\n",
              "        const element = document.querySelector('#df-587669c0-f57f-4f2f-ad4e-3d8a13299e49');\n",
              "        const dataTable =\n",
              "          await google.colab.kernel.invokeFunction('convertToInteractive',\n",
              "                                                    [key], {});\n",
              "        if (!dataTable) return;\n",
              "\n",
              "        const docLinkHtml = 'Like what you see? Visit the ' +\n",
              "          '<a target=\"_blank\" href=https://colab.research.google.com/notebooks/data_table.ipynb>data table notebook</a>'\n",
              "          + ' to learn more about interactive tables.';\n",
              "        element.innerHTML = '';\n",
              "        dataTable['output_type'] = 'display_data';\n",
              "        await google.colab.output.renderOutput(dataTable, element);\n",
              "        const docLink = document.createElement('div');\n",
              "        docLink.innerHTML = docLinkHtml;\n",
              "        element.appendChild(docLink);\n",
              "      }\n",
              "    </script>\n",
              "  </div>\n",
              "\n",
              "\n",
              "<div id=\"df-e25dbaa6-9464-4769-8b6e-4364f7fe3163\">\n",
              "  <button class=\"colab-df-quickchart\" onclick=\"quickchart('df-e25dbaa6-9464-4769-8b6e-4364f7fe3163')\"\n",
              "            title=\"Suggest charts\"\n",
              "            style=\"display:none;\">\n",
              "\n",
              "<svg xmlns=\"http://www.w3.org/2000/svg\" height=\"24px\"viewBox=\"0 0 24 24\"\n",
              "     width=\"24px\">\n",
              "    <g>\n",
              "        <path d=\"M19 3H5c-1.1 0-2 .9-2 2v14c0 1.1.9 2 2 2h14c1.1 0 2-.9 2-2V5c0-1.1-.9-2-2-2zM9 17H7v-7h2v7zm4 0h-2V7h2v10zm4 0h-2v-4h2v4z\"/>\n",
              "    </g>\n",
              "</svg>\n",
              "  </button>\n",
              "\n",
              "<style>\n",
              "  .colab-df-quickchart {\n",
              "      --bg-color: #E8F0FE;\n",
              "      --fill-color: #1967D2;\n",
              "      --hover-bg-color: #E2EBFA;\n",
              "      --hover-fill-color: #174EA6;\n",
              "      --disabled-fill-color: #AAA;\n",
              "      --disabled-bg-color: #DDD;\n",
              "  }\n",
              "\n",
              "  [theme=dark] .colab-df-quickchart {\n",
              "      --bg-color: #3B4455;\n",
              "      --fill-color: #D2E3FC;\n",
              "      --hover-bg-color: #434B5C;\n",
              "      --hover-fill-color: #FFFFFF;\n",
              "      --disabled-bg-color: #3B4455;\n",
              "      --disabled-fill-color: #666;\n",
              "  }\n",
              "\n",
              "  .colab-df-quickchart {\n",
              "    background-color: var(--bg-color);\n",
              "    border: none;\n",
              "    border-radius: 50%;\n",
              "    cursor: pointer;\n",
              "    display: none;\n",
              "    fill: var(--fill-color);\n",
              "    height: 32px;\n",
              "    padding: 0;\n",
              "    width: 32px;\n",
              "  }\n",
              "\n",
              "  .colab-df-quickchart:hover {\n",
              "    background-color: var(--hover-bg-color);\n",
              "    box-shadow: 0 1px 2px rgba(60, 64, 67, 0.3), 0 1px 3px 1px rgba(60, 64, 67, 0.15);\n",
              "    fill: var(--button-hover-fill-color);\n",
              "  }\n",
              "\n",
              "  .colab-df-quickchart-complete:disabled,\n",
              "  .colab-df-quickchart-complete:disabled:hover {\n",
              "    background-color: var(--disabled-bg-color);\n",
              "    fill: var(--disabled-fill-color);\n",
              "    box-shadow: none;\n",
              "  }\n",
              "\n",
              "  .colab-df-spinner {\n",
              "    border: 2px solid var(--fill-color);\n",
              "    border-color: transparent;\n",
              "    border-bottom-color: var(--fill-color);\n",
              "    animation:\n",
              "      spin 1s steps(1) infinite;\n",
              "  }\n",
              "\n",
              "  @keyframes spin {\n",
              "    0% {\n",
              "      border-color: transparent;\n",
              "      border-bottom-color: var(--fill-color);\n",
              "      border-left-color: var(--fill-color);\n",
              "    }\n",
              "    20% {\n",
              "      border-color: transparent;\n",
              "      border-left-color: var(--fill-color);\n",
              "      border-top-color: var(--fill-color);\n",
              "    }\n",
              "    30% {\n",
              "      border-color: transparent;\n",
              "      border-left-color: var(--fill-color);\n",
              "      border-top-color: var(--fill-color);\n",
              "      border-right-color: var(--fill-color);\n",
              "    }\n",
              "    40% {\n",
              "      border-color: transparent;\n",
              "      border-right-color: var(--fill-color);\n",
              "      border-top-color: var(--fill-color);\n",
              "    }\n",
              "    60% {\n",
              "      border-color: transparent;\n",
              "      border-right-color: var(--fill-color);\n",
              "    }\n",
              "    80% {\n",
              "      border-color: transparent;\n",
              "      border-right-color: var(--fill-color);\n",
              "      border-bottom-color: var(--fill-color);\n",
              "    }\n",
              "    90% {\n",
              "      border-color: transparent;\n",
              "      border-bottom-color: var(--fill-color);\n",
              "    }\n",
              "  }\n",
              "</style>\n",
              "\n",
              "  <script>\n",
              "    async function quickchart(key) {\n",
              "      const quickchartButtonEl =\n",
              "        document.querySelector('#' + key + ' button');\n",
              "      quickchartButtonEl.disabled = true;  // To prevent multiple clicks.\n",
              "      quickchartButtonEl.classList.add('colab-df-spinner');\n",
              "      try {\n",
              "        const charts = await google.colab.kernel.invokeFunction(\n",
              "            'suggestCharts', [key], {});\n",
              "      } catch (error) {\n",
              "        console.error('Error during call to suggestCharts:', error);\n",
              "      }\n",
              "      quickchartButtonEl.classList.remove('colab-df-spinner');\n",
              "      quickchartButtonEl.classList.add('colab-df-quickchart-complete');\n",
              "    }\n",
              "    (() => {\n",
              "      let quickchartButtonEl =\n",
              "        document.querySelector('#df-e25dbaa6-9464-4769-8b6e-4364f7fe3163 button');\n",
              "      quickchartButtonEl.style.display =\n",
              "        google.colab.kernel.accessAllowed ? 'block' : 'none';\n",
              "    })();\n",
              "  </script>\n",
              "</div>\n",
              "    </div>\n",
              "  </div>\n"
            ]
          },
          "metadata": {},
          "execution_count": 15
        }
      ],
      "source": [
        "X = df_filtered.drop(['crop', 'production'], axis=1)\n",
        "y = df_filtered['crop']\n",
        "\n",
        "X.head()"
      ]
    },
    {
      "cell_type": "code",
      "execution_count": 16,
      "metadata": {
        "colab": {
          "base_uri": "https://localhost:8080/"
        },
        "id": "A5MIs8HJVOZV",
        "outputId": "b3ca691a-95ee-485d-d85a-ce68a76137fd"
      },
      "outputs": [
        {
          "output_type": "execute_result",
          "data": {
            "text/plain": [
              "((179779, 3), (179779,))"
            ]
          },
          "metadata": {},
          "execution_count": 16
        }
      ],
      "source": [
        "X.shape, y.shape"
      ]
    },
    {
      "cell_type": "markdown",
      "metadata": {
        "id": "NW1xuKy9bULz"
      },
      "source": [
        "#### Regresion"
      ]
    },
    {
      "cell_type": "code",
      "execution_count": 17,
      "metadata": {
        "id": "2rXa9eembWgq"
      },
      "outputs": [],
      "source": [
        "y_reg = df['production']"
      ]
    },
    {
      "cell_type": "code",
      "execution_count": 18,
      "metadata": {
        "colab": {
          "base_uri": "https://localhost:8080/"
        },
        "id": "XC6UINFDbt3U",
        "outputId": "1c624245-c0f2-49de-ad2e-755b20dae9bd"
      },
      "outputs": [
        {
          "output_type": "execute_result",
          "data": {
            "text/plain": [
              "(179779,)"
            ]
          },
          "metadata": {},
          "execution_count": 18
        }
      ],
      "source": [
        "y_reg.shape"
      ]
    },
    {
      "cell_type": "markdown",
      "metadata": {
        "id": "FbqKZy1BVGXs"
      },
      "source": [
        "### Standardize numerical features"
      ]
    },
    {
      "cell_type": "code",
      "execution_count": 19,
      "metadata": {
        "colab": {
          "base_uri": "https://localhost:8080/"
        },
        "id": "xUf1lQyzU98s",
        "outputId": "0ee11e6b-7238-4af2-9c8b-712aa4511eda"
      },
      "outputs": [
        {
          "output_type": "execute_result",
          "data": {
            "text/plain": [
              "array([[-1.01147065,  0.08730562, -3.89448532],\n",
              "       [-1.01146514, -0.17943997, -3.61958313],\n",
              "       [-1.01146036,  0.17622082, -3.61958313],\n",
              "       ...,\n",
              "       [ 0.37180174,  0.17622082, -0.3207569 ],\n",
              "       [-0.15696454, -0.71293115, -0.18330581],\n",
              "       [ 0.33765321, -0.71293115, -0.18330581]])"
            ]
          },
          "metadata": {},
          "execution_count": 19
        }
      ],
      "source": [
        "scaler = StandardScaler()\n",
        "X_scaled = scaler.fit_transform(X)\n",
        "\n",
        "X_scaled"
      ]
    },
    {
      "cell_type": "markdown",
      "metadata": {
        "id": "Xh73dt2XVYO6"
      },
      "source": [
        "### Split the data into training and testing sets"
      ]
    },
    {
      "cell_type": "markdown",
      "metadata": {
        "id": "wGdLMOEwb3vx"
      },
      "source": [
        "#### Clasification"
      ]
    },
    {
      "cell_type": "code",
      "execution_count": 20,
      "metadata": {
        "id": "qhaFGzbHVR5B"
      },
      "outputs": [],
      "source": [
        "X_train, X_test, y_train, y_test = train_test_split(X_scaled, y, test_size=0.2, random_state=42)"
      ]
    },
    {
      "cell_type": "markdown",
      "metadata": {
        "id": "XA_qgp2HbzqB"
      },
      "source": [
        "#### Regresion"
      ]
    },
    {
      "cell_type": "code",
      "execution_count": 21,
      "metadata": {
        "id": "kto-oeZfbgVH"
      },
      "outputs": [],
      "source": [
        "X_reg_train, X_reg_test, y_reg_train, y_reg_test = train_test_split(X_scaled, y_reg, test_size=0.2, random_state=42)"
      ]
    },
    {
      "cell_type": "markdown",
      "metadata": {
        "id": "ooCmdSKGYiPq"
      },
      "source": [
        "## Modeling"
      ]
    },
    {
      "cell_type": "markdown",
      "metadata": {
        "id": "P6SVz0g2b9Ju"
      },
      "source": [
        "### Clasification"
      ]
    },
    {
      "cell_type": "code",
      "execution_count": 22,
      "metadata": {
        "id": "96JzIqu6VchP"
      },
      "outputs": [],
      "source": [
        "# Create a KNN classifier\n",
        "knn_classifier = KNeighborsClassifier(n_neighbors=3)\n",
        "\n",
        "# Train the model on the training set\n",
        "knn_classifier.fit(X_train, y_train)\n",
        "\n",
        "# Make predictions on the test set\n",
        "y_pred = knn_classifier.predict(X_test)"
      ]
    },
    {
      "cell_type": "markdown",
      "metadata": {
        "id": "_S0JlgZpcAbe"
      },
      "source": [
        "### Regresion"
      ]
    },
    {
      "cell_type": "code",
      "execution_count": 23,
      "metadata": {
        "id": "95-jPp0xcCeO"
      },
      "outputs": [],
      "source": [
        "# Create a KNN regresion\n",
        "knn_regressor = KNeighborsRegressor(n_neighbors=3)\n",
        "\n",
        "# Train the model on the training set\n",
        "knn_regressor.fit(X_reg_train, y_reg_train)\n",
        "\n",
        "# Make predictions on the test set\n",
        "y_reg_pred = knn_regressor.predict(X_reg_test)"
      ]
    },
    {
      "cell_type": "markdown",
      "metadata": {
        "id": "Q7UF-2vQdr1R"
      },
      "source": [
        "## Model Evaluation"
      ]
    },
    {
      "cell_type": "markdown",
      "metadata": {
        "id": "T7Dn7OuBdu8s"
      },
      "source": [
        "### Evaluation Clasification Model"
      ]
    },
    {
      "cell_type": "code",
      "execution_count": 24,
      "metadata": {
        "colab": {
          "base_uri": "https://localhost:8080/"
        },
        "id": "1-genZ5fYpyl",
        "outputId": "e1af54b2-814a-4add-9a6f-67ad111b527d"
      },
      "outputs": [
        {
          "output_type": "stream",
          "name": "stdout",
          "text": [
            "Accuracy: 99.65%\n",
            "\n",
            "Precision: 0.9965\n",
            "Recall: 0.9965\n",
            "F1-Score: 0.9964\n"
          ]
        }
      ],
      "source": [
        "# Evaluate the model\n",
        "accuracy = accuracy_score(y_test, y_pred) * 100\n",
        "precision = precision_score(y_test, y_pred, average='weighted', zero_division=1)\n",
        "recall = recall_score(y_test, y_pred, average='weighted', zero_division=1)\n",
        "f1 = f1_score(y_test, y_pred, average='weighted', zero_division=1)\n",
        "\n",
        "# Print the evaluation metrics\n",
        "print(f\"Accuracy: {accuracy:.2f}%\")\n",
        "print(f\"\\nPrecision: {precision:.4f}\")\n",
        "print(f\"Recall: {recall:.4f}\")\n",
        "print(f\"F1-Score: {f1:.4f}\")"
      ]
    },
    {
      "cell_type": "code",
      "execution_count": 25,
      "metadata": {
        "colab": {
          "base_uri": "https://localhost:8080/"
        },
        "id": "eyTVyvEufrzG",
        "outputId": "e4bb7bdc-d975-40c8-adfa-bfba50cdfca5"
      },
      "outputs": [
        {
          "output_type": "stream",
          "name": "stdout",
          "text": [
            "Confusion Matrix:\n",
            "[[ 804    0    0 ...    0    0    0]\n",
            " [   0  163    0 ...    0    0    0]\n",
            " [   0    0  679 ...    0    0    0]\n",
            " ...\n",
            " [   0    0    0 ... 1899    0    0]\n",
            " [   0    0    0 ...    0   12    0]\n",
            " [   0    0    0 ...    1    0 1515]]\n"
          ]
        }
      ],
      "source": [
        "# Confusion Matrix\n",
        "conf_matrix = confusion_matrix(y_test, y_pred)\n",
        "\n",
        "# Print Confusion Matrix\n",
        "print(\"Confusion Matrix:\")\n",
        "print(conf_matrix)"
      ]
    },
    {
      "cell_type": "code",
      "execution_count": 26,
      "metadata": {
        "colab": {
          "base_uri": "https://localhost:8080/"
        },
        "id": "43eJB_8TV9aK",
        "outputId": "4fdda9b7-cd62-486e-bc18-dd1f1136b5cc"
      },
      "outputs": [
        {
          "output_type": "stream",
          "name": "stdout",
          "text": [
            "Classification Report:\n",
            "              precision    recall  f1-score   support\n",
            "\n",
            "           0       1.00      1.00      1.00       806\n",
            "           1       0.98      0.99      0.99       164\n",
            "           2       1.00      1.00      1.00       681\n",
            "           3       1.00      0.00      0.00         2\n",
            "           4       1.00      1.00      1.00        77\n",
            "           5       0.68      0.65      0.67        20\n",
            "           7       0.98      0.91      0.95        47\n",
            "           8       0.75      0.38      0.50         8\n",
            "          11       0.99      0.98      0.98       546\n",
            "          13       1.00      1.00      1.00      1227\n",
            "          14       1.00      0.17      0.29         6\n",
            "          15       1.00      1.00      1.00       555\n",
            "          16       1.00      1.00      1.00       794\n",
            "          17       0.97      1.00      0.99       107\n",
            "          18       1.00      1.00      1.00        15\n",
            "          19       1.00      1.00      1.00       631\n",
            "          20       1.00      1.00      1.00       616\n",
            "          21       0.99      0.99      0.99      1371\n",
            "          22       1.00      0.80      0.89        20\n",
            "          23       0.99      1.00      0.99      1699\n",
            "          24       1.00      1.00      1.00       231\n",
            "          25       0.99      0.99      0.99       691\n",
            "          26       0.99      1.00      1.00      1376\n",
            "          27       1.00      0.99      0.99       246\n",
            "          28       0.99      1.00      1.00       279\n",
            "          29       1.00      0.95      0.97        19\n",
            "          30       1.00      1.00      1.00         7\n",
            "          31       1.00      1.00      1.00       873\n",
            "          32       1.00      1.00      1.00      2799\n",
            "          33       1.00      0.99      1.00       356\n",
            "          34       1.00      1.00      1.00      1837\n",
            "          35       0.99      0.99      0.99       124\n",
            "          36       0.99      1.00      1.00      1296\n",
            "          37       1.00      0.93      0.96        43\n",
            "          38       1.00      1.00      1.00        40\n",
            "          39       1.00      1.00      1.00       823\n",
            "          41       1.00      1.00      1.00      1400\n",
            "          42       1.00      0.00      0.00         3\n",
            "          43       0.99      1.00      1.00       733\n",
            "          44       1.00      1.00      1.00      3113\n",
            "          45       0.97      0.98      0.98       236\n",
            "          46       0.99      0.97      0.98       389\n",
            "          47       1.00      1.00      1.00      1721\n",
            "          48       1.00      1.00      1.00       603\n",
            "          49       1.00      1.00      1.00      1059\n",
            "          50       1.00      1.00      1.00      1076\n",
            "          51       1.00      1.00      1.00       797\n",
            "          52       0.99      1.00      0.99       315\n",
            "          53       0.95      0.92      0.94        63\n",
            "          54       1.00      1.00      1.00       586\n",
            "          55       1.00      1.00      1.00      1900\n",
            "          56       1.00      0.92      0.96        13\n",
            "          57       1.00      1.00      1.00      1517\n",
            "\n",
            "    accuracy                           1.00     35956\n",
            "   macro avg       0.98      0.91      0.92     35956\n",
            "weighted avg       1.00      1.00      1.00     35956\n",
            "\n"
          ]
        }
      ],
      "source": [
        "# Classification Report\n",
        "class_report = classification_report(y_test, y_pred, zero_division=1)\n",
        "\n",
        "# Print Classification Report\n",
        "print(\"Classification Report:\")\n",
        "print(class_report)"
      ]
    },
    {
      "cell_type": "markdown",
      "metadata": {
        "id": "VCfXnbMCdXB6"
      },
      "source": [
        "### Evaluation Regresion Model"
      ]
    },
    {
      "cell_type": "code",
      "execution_count": 27,
      "metadata": {
        "colab": {
          "base_uri": "https://localhost:8080/"
        },
        "id": "WdGtfkk7c5s6",
        "outputId": "8197826a-224a-496e-a5d6-a7dab4af61c4"
      },
      "outputs": [
        {
          "output_type": "stream",
          "name": "stdout",
          "text": [
            "Mean Absolute Error (MAE): 0.0245\n",
            "Mean Squared Error (MSE): 0.2262\n",
            "R-squared (R²): 0.9965\n"
          ]
        }
      ],
      "source": [
        "# Evaluasi model regresi\n",
        "mae = mean_absolute_error(y_reg_test, y_reg_pred)\n",
        "mse = mean_squared_error(y_reg_test, y_reg_pred)\n",
        "r2 = r2_score(y_reg_test, y_reg_pred)\n",
        "\n",
        "# Print evaluasi\n",
        "print(f\"Mean Absolute Error (MAE): {mae:.4f}\")\n",
        "print(f\"Mean Squared Error (MSE): {mse:.4f}\")\n",
        "print(f\"R-squared (R²): {r2:.4f}\")"
      ]
    },
    {
      "cell_type": "markdown",
      "metadata": {
        "id": "oXZG6v_OdbS3"
      },
      "source": [
        "## Testing"
      ]
    },
    {
      "cell_type": "code",
      "execution_count": 28,
      "metadata": {
        "id": "0GYJoqirWP1m"
      },
      "outputs": [],
      "source": [
        "def predict_crop(knn_classifier, knn_regressor, label_encoder, scaler):\n",
        "    while True:\n",
        "        try:\n",
        "            # Meminta pengguna memasukkan nilai untuk setiap kolom\n",
        "            rainfall = float(input(\"Masukkan nilai Rainfall: \"))\n",
        "            temperature = float(input(\"Masukkan nilai Temperature: \"))\n",
        "            ph = float(input(\"Masukkan nilai Ph: \"))\n",
        "        except ValueError:\n",
        "            print(\"Mohon masukkan nilai numerik yang valid.\")\n",
        "            continue\n",
        "\n",
        "        warnings.filterwarnings(\"ignore\", category=UserWarning)\n",
        "\n",
        "        # Menambahkan nilai ke dalam list 'new_data'\n",
        "        new_data = [[rainfall, temperature, ph]]\n",
        "\n",
        "        # Normalisasi data baru mengunakan scaler yang sudah diterapkan sebelumnya\n",
        "        new_data_normalized = scaler.transform(new_data)\n",
        "\n",
        "        # Prediksi kelas menggunakan model KNN\n",
        "        predicted_class = knn_classifier.predict(new_data_normalized)\n",
        "\n",
        "        # Mengembalikan label kelas ke nilai semula jika 'Crop' adalah kelas yang diprediksi\n",
        "        predicted_crop = label_encoder.inverse_transform(predicted_class)\n",
        "\n",
        "        # Prediksi hasil produksi menggunakan model regresi KNN\n",
        "        predicted_production = knn_regressor.predict(new_data_normalized)\n",
        "\n",
        "        # Efek animasi sederhana\n",
        "        print(\"\\nMemprediksi\", end=\"\", flush=True)\n",
        "        for _ in range(3):\n",
        "            time.sleep(1)\n",
        "            print(\".\", end=\"\", flush=True)\n",
        "        print(\"\\n\")\n",
        "\n",
        "        # Menampilkan hasil prediksi\n",
        "        print(f\"\\nPredicted Crop: {predicted_crop[0]}\")\n",
        "        print(f\"Predicted Production: {predicted_production[0]}\")\n",
        "        warnings.filterwarnings(\"default\", category=UserWarning)\n",
        "\n",
        "        process = input(\"\\nApakah anda ingin melanjutkan? jika tidak ketik 'selesai' untuk mengakhiri: \")\n",
        "        # Periksa jika pengguna memilih untuk keluar dari program\n",
        "        if process.lower() == 'selesai':\n",
        "            print(\"Program selesai.\")\n",
        "            break"
      ]
    },
    {
      "cell_type": "code",
      "execution_count": 29,
      "metadata": {
        "colab": {
          "base_uri": "https://localhost:8080/"
        },
        "id": "O2VrprtdXJf_",
        "outputId": "6ff2a619-5c7a-4a98-d11b-eb0ee846af3a"
      },
      "outputs": [
        {
          "output_type": "stream",
          "name": "stdout",
          "text": [
            "Masukkan nilai Rainfall: 400\n",
            "Masukkan nilai Temperature: 40\n",
            "Masukkan nilai Ph: 7\n",
            "\n",
            "Memprediksi...\n",
            "\n",
            "\n",
            "Predicted Crop: Jute\n",
            "Predicted Production: 8.956926666666668\n",
            "\n",
            "Apakah anda ingin melanjutkan? jika tidak ketik 'selesai' untuk mengakhiri: selesai\n",
            "Program selesai.\n"
          ]
        }
      ],
      "source": [
        "predict_crop(knn_classifier, knn_regressor, label_encoder, scaler)"
      ]
    }
  ],
  "metadata": {
    "colab": {
      "provenance": []
    },
    "kernelspec": {
      "display_name": "Python 3",
      "name": "python3"
    },
    "language_info": {
      "name": "python"
    }
  },
  "nbformat": 4,
  "nbformat_minor": 0
}